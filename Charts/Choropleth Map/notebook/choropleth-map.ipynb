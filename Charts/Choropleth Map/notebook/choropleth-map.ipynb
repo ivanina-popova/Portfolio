{
 "cells": [
  {
   "cell_type": "code",
   "execution_count": 1,
   "id": "dc8eec33-2eb8-4a4c-ad14-ce555700c909",
   "metadata": {},
   "outputs": [],
   "source": [
    "# Import necessary libraries\n",
    "import pandas as pd\n",
    "import geopandas as gpd\n",
    "import folium\n",
    "import os\n",
    "from selenium import webdriver"
   ]
  },
  {
   "cell_type": "code",
   "execution_count": 3,
   "id": "fccd7e67-bf39-4c25-8335-656d3b76fd81",
   "metadata": {},
   "outputs": [],
   "source": [
    "# Load the data from the Excel file\n",
    "data = pd.read_excel('../data/data.xlsx')\n",
    "geojson_data = gpd.read_file('../data/provinces.geojson')"
   ]
  },
  {
   "cell_type": "code",
   "execution_count": 5,
   "id": "ad3719b9-8e3d-4d1b-9361-a9faf347784f",
   "metadata": {},
   "outputs": [],
   "source": [
    "# Merge the datasets on the code and nuts3 columns\n",
    "geojson_data = geojson_data.merge(data, left_on='nuts3', right_on='code')"
   ]
  },
  {
   "cell_type": "code",
   "execution_count": 21,
   "id": "4aa2492e-25ab-415d-96fc-3de5888ff4a9",
   "metadata": {},
   "outputs": [],
   "source": [
    "# Create a Folium map centered on Bulgaria\n",
    "map_center = [42.7339, 25.4858]  \n",
    "m = folium.Map(location=map_center, zoom_start=8)"
   ]
  },
  {
   "cell_type": "code",
   "execution_count": 19,
   "id": "72f1a448-51bf-4eb1-8b40-f6ba362b4b44",
   "metadata": {},
   "outputs": [],
   "source": [
    "# Create the choropleth layer\n",
    "choropleth = folium.Choropleth(\n",
    "    geo_data=geojson_data,\n",
    "    data=geojson_data,\n",
    "    columns=['nuts3', 'tesla'],  \n",
    "    key_on='feature.properties.nuts3',  \n",
    "    fill_color='YlGnBu',  \n",
    "    fill_opacity=0.7,\n",
    "    line_opacity=0.2,\n",
    "    legend_name='Search Interest for Tesla'\n",
    ").add_to(m)"
   ]
  },
  {
   "cell_type": "code",
   "execution_count": 11,
   "id": "d5d5c96a-47b0-4c51-8c50-d0ff23d3cf09",
   "metadata": {},
   "outputs": [
    {
     "data": {
      "text/plain": [
       "<folium.features.GeoJsonTooltip at 0x1446433b0>"
      ]
     },
     "execution_count": 11,
     "metadata": {},
     "output_type": "execute_result"
    }
   ],
   "source": [
    "# Add tooltips to display region and search interest\n",
    "folium.GeoJsonTooltip(\n",
    "    fields=['nuts3', 'tesla'],\n",
    "    aliases=['Region Code:', 'Search Interest:'],\n",
    "    localize=True\n",
    ").add_to(choropleth.geojson)"
   ]
  },
  {
   "cell_type": "code",
   "execution_count": 13,
   "id": "f262b44d-cbf6-4880-b0c3-662a1046b54d",
   "metadata": {},
   "outputs": [
    {
     "name": "stdout",
     "output_type": "stream",
     "text": [
      "Map has been created and saved as 'bg_tesla_choropleth.html'\n"
     ]
    }
   ],
   "source": [
    "# Save the map to an HTML file\n",
    "m.save('bulgaria_tesla_choropleth.html')\n",
    "\n",
    "print(\"Map has been created and saved as 'bg_tesla_choropleth.html'\")"
   ]
  },
  {
   "cell_type": "code",
   "execution_count": 17,
   "id": "01c4ece3-2fda-405c-b15c-56b298220324",
   "metadata": {},
   "outputs": [],
   "source": [
    "def save_map_as_png(map_object, file_name):\n",
    "    # Save Folium map as HTML and then convert to PNG using Selenium\n",
    "    temp_file = 'temp_map.html'\n",
    "    map_object.save(temp_file)\n",
    "    driver = webdriver.Chrome()\n",
    "    driver.get(f'file://{os.path.abspath(temp_file)}')\n",
    "    driver.save_screenshot(file_name)\n",
    "    driver.quit()\n",
    "    os.remove(temp_file)\n",
    "\n",
    "save_map_as_png(m, 'bg_tesla_choropleth.png')"
   ]
  },
  {
   "cell_type": "code",
   "execution_count": null,
   "id": "b63cf73e-e81a-40b8-9f68-cb37a03484ed",
   "metadata": {},
   "outputs": [],
   "source": []
  }
 ],
 "metadata": {
  "kernelspec": {
   "display_name": "Python 3 (ipykernel)",
   "language": "python",
   "name": "python3"
  },
  "language_info": {
   "codemirror_mode": {
    "name": "ipython",
    "version": 3
   },
   "file_extension": ".py",
   "mimetype": "text/x-python",
   "name": "python",
   "nbconvert_exporter": "python",
   "pygments_lexer": "ipython3",
   "version": "3.12.4"
  }
 },
 "nbformat": 4,
 "nbformat_minor": 5
}
