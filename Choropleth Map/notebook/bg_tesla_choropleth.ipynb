{
 "cells": [
  {
   "cell_type": "code",
   "execution_count": 101,
   "id": "6ed2b2a0-59a3-4ffa-ad6e-332bb16f3edc",
   "metadata": {},
   "outputs": [],
   "source": [
    "# Import necessary libraries\n",
    "import pandas as pd\n",
    "import geopandas as gpd\n",
    "import folium\n",
    "import os\n",
    "from selenium import webdriver"
   ]
  },
  {
   "cell_type": "code",
   "execution_count": 103,
   "id": "8906f129-3d35-4bb6-8272-cafd83c451c7",
   "metadata": {},
   "outputs": [],
   "source": [
    "# Load the data from the Excel file\n",
    "data = pd.read_excel('data.xlsx')\n",
    "geojson_data = gpd.read_file('provinces.geojson')"
   ]
  },
  {
   "cell_type": "code",
   "execution_count": 105,
   "id": "4e883067-c62a-48c5-9638-2d61e614627c",
   "metadata": {},
   "outputs": [],
   "source": [
    "# Merge the datasets on the code and nuts3 columns\n",
    "geojson_data = geojson_data.merge(data, left_on='nuts3', right_on='code')"
   ]
  },
  {
   "cell_type": "code",
   "execution_count": 107,
   "id": "ab142a0b-3ded-4e7c-9f84-76513340200f",
   "metadata": {},
   "outputs": [],
   "source": [
    "# Create a Folium map centered on Bulgaria\n",
    "map_center = [42.7339, 25.4858]  # Approximate center of Bulgaria\n",
    "m = folium.Map(location=map_center, zoom_start=8)"
   ]
  },
  {
   "cell_type": "code",
   "execution_count": 109,
   "id": "e7f14684-c472-4d07-aa70-bdb46454575a",
   "metadata": {},
   "outputs": [],
   "source": [
    "# Create the choropleth layer\n",
    "choropleth = folium.Choropleth(\n",
    "    geo_data=geojson_data,\n",
    "    data=geojson_data,\n",
    "    columns=['nuts3', 'tesla'],  # Key for choropleth\n",
    "    key_on='feature.properties.nuts3',  # Match GeoJSON property\n",
    "    fill_color='YlGnBu',  # Color scheme\n",
    "    fill_opacity=0.7,\n",
    "    line_opacity=0.2,\n",
    "    legend_name='Search Interest for Tesla'\n",
    ").add_to(m)"
   ]
  },
  {
   "cell_type": "code",
   "execution_count": 111,
   "id": "a02ea30a-4cc2-46ef-abb7-ca529799f527",
   "metadata": {},
   "outputs": [
    {
     "data": {
      "text/plain": [
       "<folium.features.GeoJsonTooltip at 0x159bf9340>"
      ]
     },
     "execution_count": 111,
     "metadata": {},
     "output_type": "execute_result"
    }
   ],
   "source": [
    "# Add tooltips to display region and search interest\n",
    "folium.GeoJsonTooltip(\n",
    "    fields=['nuts3', 'tesla'],\n",
    "    aliases=['Region Code:', 'Search Interest:'],\n",
    "    localize=True\n",
    ").add_to(choropleth.geojson)"
   ]
  },
  {
   "cell_type": "code",
   "execution_count": 117,
   "id": "1c227778-275e-45ab-b45a-3147cecf8da6",
   "metadata": {},
   "outputs": [
    {
     "name": "stdout",
     "output_type": "stream",
     "text": [
      "Map has been created and saved as 'bg_tesla_choropleth.html'\n"
     ]
    }
   ],
   "source": [
    "# Save the map to an HTML file\n",
    "m.save('bulgaria_tesla_choropleth.html')\n",
    "\n",
    "print(\"Map has been created and saved as 'bg_tesla_choropleth.html'\")"
   ]
  },
  {
   "cell_type": "code",
   "execution_count": 115,
   "id": "b4886044-a756-495b-bd80-34959b4628ae",
   "metadata": {},
   "outputs": [],
   "source": [
    "def save_map_as_png(map_object, file_name):\n",
    "    # Save Folium map as HTML and then convert to PNG using Selenium\n",
    "    temp_file = 'temp_map.html'\n",
    "    map_object.save(temp_file)\n",
    "    driver = webdriver.Chrome()  # Replace with your browser driver\n",
    "    driver.get(f'file://{os.path.abspath(temp_file)}')\n",
    "    driver.save_screenshot(file_name)\n",
    "    driver.quit()\n",
    "    os.remove(temp_file)\n",
    "\n",
    "save_map_as_png(m, 'bg_tesla_choropleth.png')"
   ]
  },
  {
   "cell_type": "code",
   "execution_count": null,
   "id": "81bc51a4-1e85-4bb3-8d59-44d8f6183d77",
   "metadata": {},
   "outputs": [],
   "source": []
  },
  {
   "cell_type": "code",
   "execution_count": null,
   "id": "e95ffa17-1e0a-4070-8c61-904d70127125",
   "metadata": {},
   "outputs": [],
   "source": []
  }
 ],
 "metadata": {
  "kernelspec": {
   "display_name": "Python 3 (ipykernel)",
   "language": "python",
   "name": "python3"
  },
  "language_info": {
   "codemirror_mode": {
    "name": "ipython",
    "version": 3
   },
   "file_extension": ".py",
   "mimetype": "text/x-python",
   "name": "python",
   "nbconvert_exporter": "python",
   "pygments_lexer": "ipython3",
   "version": "3.12.4"
  }
 },
 "nbformat": 4,
 "nbformat_minor": 5
}
